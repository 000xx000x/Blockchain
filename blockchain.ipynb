{
  "nbformat": 4,
  "nbformat_minor": 0,
  "metadata": {
    "colab": {
      "provenance": []
    },
    "kernelspec": {
      "name": "python3",
      "display_name": "Python 3"
    },
    "language_info": {
      "name": "python"
    }
  },
  "cells": [
    {
      "cell_type": "code",
      "execution_count": null,
      "metadata": {
        "id": "uYBRQlEn5HkQ"
      },
      "outputs": [],
      "source": [
        "import hashlib\n",
        "import json\n",
        "import time\n",
        "\n",
        "class Block:\n",
        "    def __init__(self, previous_block_hash, data):\n",
        "        self.previous_block_hash = previous_block_hash\n",
        "        self.data = data\n",
        "        self.timestamp = time.time()\n",
        "        self.hash = self.calculate_hash()\n",
        "    \n",
        "    def calculate_hash(self):\n",
        "        block_string = json.dumps(self.__dict__, sort_keys=True).encode()\n",
        "        return hashlib.sha256(block_string).hexdigest()\n",
        "\n",
        "class Blockchain:\n",
        "    def __init__(self):\n",
        "        self.chain = [self.create_genesis_block()]\n",
        "    \n",
        "    def create_genesis_block(self):\n",
        "        return Block(None, \"Genesis Block\")\n",
        "    \n",
        "    def add_block(self, data):\n",
        "        previous_block = self.chain[-1]\n",
        "        new_block = Block(previous_block.hash, data)\n",
        "        self.chain.append(new_block)\n",
        "\n",
        "blockchain = Blockchain()\n",
        "blockchain.add_block(\"First block\")\n",
        "blockchain.add_block(\"Second block\")\n",
        "\n",
        "print(blockchain.chain)\n"
      ]
    }
  ]
}